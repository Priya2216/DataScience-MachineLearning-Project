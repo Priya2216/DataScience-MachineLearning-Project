{
 "cells": [
  {
   "cell_type": "markdown",
   "id": "fb063d08",
   "metadata": {},
   "source": [
    "## Standard libraries for data analysis"
   ]
  },
  {
   "cell_type": "code",
   "execution_count": null,
   "id": "2fea5895",
   "metadata": {},
   "outputs": [],
   "source": [
    "import numpy as np\n",
    "import pandas as pd\n",
    "import matplotlib.pyplot as plt\n",
    "import seaborn as sns\n",
    "\n",
    "import warnings\n",
    "warnings.filterwarnings(\"ignore\")"
   ]
  },
  {
   "cell_type": "code",
   "execution_count": null,
   "id": "48bf2b48",
   "metadata": {},
   "outputs": [],
   "source": [
    "df = pd.read_csv(\"Churn_Modelling.csv\")"
   ]
  },
  {
   "cell_type": "code",
   "execution_count": null,
   "id": "a57a3e2f",
   "metadata": {},
   "outputs": [],
   "source": [
    "df.head()"
   ]
  },
  {
   "cell_type": "markdown",
   "id": "53c70ce9",
   "metadata": {},
   "source": [
    "## EDA Pre-processing"
   ]
  },
  {
   "cell_type": "code",
   "execution_count": null,
   "id": "c09a6dac",
   "metadata": {},
   "outputs": [],
   "source": [
    "df.shape"
   ]
  },
  {
   "cell_type": "code",
   "execution_count": null,
   "id": "48eb818c",
   "metadata": {},
   "outputs": [],
   "source": [
    "df.columns"
   ]
  },
  {
   "cell_type": "code",
   "execution_count": null,
   "id": "260b4f3b",
   "metadata": {},
   "outputs": [],
   "source": [
    "df.info()"
   ]
  },
  {
   "cell_type": "code",
   "execution_count": null,
   "id": "48ada0c2",
   "metadata": {},
   "outputs": [],
   "source": [
    "df.describe()"
   ]
  },
  {
   "cell_type": "code",
   "execution_count": null,
   "id": "723cbae3",
   "metadata": {},
   "outputs": [],
   "source": [
    "df.isnull().sum()"
   ]
  },
  {
   "cell_type": "code",
   "execution_count": null,
   "id": "c6ad0ac3",
   "metadata": {},
   "outputs": [],
   "source": [
    "# Graph to check there is any non null values\n",
    "\n",
    "df.isnull().sum().plot(kind='bar')\n",
    "plt.title(\"No Null Values\")\n",
    "plt.xlabel(\"Attributes\")\n",
    "plt.ylabel(\"Counts\")"
   ]
  },
  {
   "cell_type": "code",
   "execution_count": null,
   "id": "2da14aac",
   "metadata": {},
   "outputs": [],
   "source": [
    "# check unique values of Geography column.\n",
    "\n",
    "df[\"Geography\"].unique()"
   ]
  },
  {
   "cell_type": "code",
   "execution_count": null,
   "id": "728431da",
   "metadata": {},
   "outputs": [],
   "source": [
    "# Storytelling - Visualization Ratio\n",
    "# Pi-Chart For Active & Not Active Customers\n",
    "\n",
    "values = df.IsActiveMember.value_counts()\n",
    "labels = ['Not Active', 'Active']\n",
    "\n",
    "fig, ax = plt.subplots(figsize = (4, 3), dpi = 100)\n",
    "explode = (0, 0.09)\n",
    "\n",
    "patches, texts, autotexts = ax.pie(values, labels = labels, autopct = '%1.2f%%', shadow = True,\n",
    "                                   startangle = 90, explode = explode)\n",
    "\n",
    "plt.setp(texts, color = 'grey')\n",
    "plt.setp(autotexts, size = 8, color = 'white')\n",
    "autotexts[1].set_color('black')\n",
    "plt.title(\"Pi-Chart For Active & Not Active Customers\")\n",
    "plt.show()"
   ]
  },
  {
   "cell_type": "code",
   "execution_count": null,
   "id": "d07c875f",
   "metadata": {},
   "outputs": [],
   "source": [
    "# Pi- Chart For Exited & Non Excited Customer\n",
    "\n",
    "values = df.Exited.value_counts()\n",
    "labels = ['Not Exited', 'Exited']\n",
    "\n",
    "fig, ax = plt.subplots(figsize = (4, 3), dpi = 100)\n",
    "explode = (0, 0.09)\n",
    "\n",
    "patches, texts, autotexts = ax.pie(values, labels = labels, autopct = '%1.2f%%', shadow = True,\n",
    "                                   startangle = 90, explode = explode, colors = ['darkblue','deeppink'])\n",
    "\n",
    "plt.setp(texts, color = 'grey')\n",
    "plt.setp(autotexts, size = 8, color = 'white')\n",
    "plt.title(\"Pi- Chart For Exited & Non Excited Customer\")\n",
    "autotexts[1].set_color('black')\n",
    "plt.show()"
   ]
  },
  {
   "cell_type": "code",
   "execution_count": null,
   "id": "69a9ce99",
   "metadata": {},
   "outputs": [],
   "source": [
    "# Pi-Chart For Customers Having Card or Not\n",
    "\n",
    "values = df.HasCrCard.value_counts()\n",
    "labels = ['doesnt has CrCard', 'HasCrCard']\n",
    "\n",
    "fig, ax = plt.subplots(figsize = (4, 3), dpi = 100)\n",
    "explode = (0, 0.09)\n",
    "\n",
    "patches, texts, autotexts = ax.pie(values, labels = labels, autopct = '%1.2f%%', shadow = True,\n",
    "                                   startangle = 90, explode = explode, colors = ['tab:cyan' , 'tab:olive'])\n",
    "\n",
    "plt.setp(texts, color = 'grey')\n",
    "plt.setp(autotexts, size = 8, color = 'white')\n",
    "autotexts[1].set_color('black')\n",
    "plt.title(\"Pi-Chart For Customers Having Card or Not\")\n",
    "plt.show()"
   ]
  },
  {
   "cell_type": "code",
   "execution_count": null,
   "id": "47b9f888",
   "metadata": {},
   "outputs": [],
   "source": [
    "#Pi-chart for Gender\n",
    "\n",
    "values = df.Gender.value_counts()\n",
    "labels = ['Male', 'Female']\n",
    "\n",
    "fig, ax = plt.subplots(figsize = (4, 3), dpi = 100)\n",
    "explode = (0, 0.09)\n",
    "\n",
    "patches, texts, autotexts = ax.pie(values, labels = labels, autopct = '%1.2f%%', shadow = True,\n",
    "                                   startangle = 90, explode = explode, colors = ['teal','mediumvioletred'])\n",
    "\n",
    "plt.setp(texts, color = 'grey')\n",
    "plt.setp(autotexts, size = 8, color = 'white')\n",
    "autotexts[1].set_color('black')\n",
    "plt.title(\"Pi-chart for Gender\")\n",
    "plt.show()"
   ]
  },
  {
   "cell_type": "code",
   "execution_count": null,
   "id": "74e32250",
   "metadata": {},
   "outputs": [],
   "source": [
    "# Comparing each feature in terms of number of people\n",
    "\n",
    "fig, ax = plt.subplots(3, 2, figsize = (9, 8))\n",
    "\n",
    "sns.countplot('Geography', hue = 'Exited', data = df, ax = ax[0][0])\n",
    "sns.countplot('Gender', hue = 'Exited', data = df, ax = ax[0][1])\n",
    "sns.countplot('Tenure', hue = 'Exited', data = df, ax = ax[1][0])\n",
    "sns.countplot('NumOfProducts', hue = 'Exited', data = df, ax = ax[1][1])\n",
    "sns.countplot('HasCrCard', hue = 'Exited', data = df, ax = ax[2][0])\n",
    "sns.countplot('IsActiveMember', hue = 'Exited', data = df, ax = ax[2][1])\n",
    "\n",
    "plt.tight_layout()\n",
    "plt.show()"
   ]
  },
  {
   "cell_type": "code",
   "execution_count": null,
   "id": "53481599",
   "metadata": {},
   "outputs": [],
   "source": [
    "# check correlation between features and target\n",
    "\n",
    "plt.figure(figsize=(10,6))\n",
    "sns.heatmap(df.corr(), annot=True)\n",
    "plt.title(' Correlation Heatmap', fontsize=14)\n",
    "plt.show()"
   ]
  },
  {
   "cell_type": "code",
   "execution_count": null,
   "id": "ae8d39ba",
   "metadata": {},
   "outputs": [],
   "source": [
    "# Handling Outlier for Numerical Column\n",
    "\n",
    "plt.figure()\n",
    "sns.boxplot(df[\"Age\"])  \n",
    "plt.show()\n",
    "\n",
    "q1 = np.quantile(df[\"Age\"],0.25)\n",
    "q3 = np.quantile(df[\"Age\"],0.75)\n",
    "\n",
    "print(\"Value of Qurtile 1:\",q1)\n",
    "print(\"Value of Qurtile 3:\",q3)\n",
    "\n",
    "iqr = q3 - q1\n",
    "uw = q3+(1.5*iqr)\n",
    "lw = q1-(1.5*iqr)\n",
    "\n",
    "print(\"Upper Whishker:\",uw)\n",
    "print(\"Lower Whishker:\",lw)\n",
    "\n",
    "df.Age.min(), df.Age.max()"
   ]
  },
  {
   "cell_type": "code",
   "execution_count": null,
   "id": "4a04a9b9",
   "metadata": {},
   "outputs": [],
   "source": [
    "# Handling Outlier for Categorical Column and remove it \n",
    "\n",
    "plt.figure(figsize=(5,5))\n",
    "sns.boxplot(data=df, x=\"Balance\",y=\"Geography\")\n",
    "plt.title(\"Box plot for Geography with outliers\")\n",
    "plt.show()"
   ]
  },
  {
   "cell_type": "code",
   "execution_count": null,
   "id": "e4e53d64",
   "metadata": {},
   "outputs": [],
   "source": [
    "for make in df[\"Geography\"].unique():\n",
    "    price = df[df[\"Geography\"] == make][\"Balance\"]\n",
    "    q1 = np.quantile(price,0.25)\n",
    "    q3 = np.quantile(price,0.75)\n",
    "    iqr = q3-q1\n",
    "    uw = q3+(1.5*iqr)\n",
    "    \n",
    "    index = price [price > uw].index\n",
    "    if len(index) != 0:\n",
    "        df.drop(index, inplace=True)"
   ]
  },
  {
   "cell_type": "code",
   "execution_count": null,
   "id": "9781366c",
   "metadata": {},
   "outputs": [],
   "source": [
    "#Box plot after removing outliers\n",
    "\n",
    "plt.figure(figsize=(5,5))\n",
    "sns.boxplot(data=df, x=\"Balance\",y=\"Geography\")\n",
    "plt.title(\"Box plot after removing outliers\")\n",
    "plt.show()"
   ]
  },
  {
   "cell_type": "code",
   "execution_count": null,
   "id": "ea3d6290",
   "metadata": {},
   "outputs": [],
   "source": [
    "# spliting into categoral and numerical\n",
    "\n",
    "df_num = df.select_dtypes([\"int64\",\"float64\"])\n",
    "df_cat = df.select_dtypes([\"object\"])"
   ]
  },
  {
   "cell_type": "code",
   "execution_count": null,
   "id": "bee7c845",
   "metadata": {},
   "outputs": [],
   "source": [
    "df_num.head()"
   ]
  },
  {
   "cell_type": "code",
   "execution_count": null,
   "id": "5419287d",
   "metadata": {},
   "outputs": [],
   "source": [
    "df_cat.head()"
   ]
  },
  {
   "cell_type": "code",
   "execution_count": null,
   "id": "2d2b7bb6",
   "metadata": {},
   "outputs": [],
   "source": [
    "# Categorical data plot \n",
    "\n",
    "for col in df_cat:\n",
    "    plt.figure()\n",
    "    sns.countplot(data=df_cat,y=col)\n",
    "    plt.show()"
   ]
  },
  {
   "cell_type": "code",
   "execution_count": null,
   "id": "3a7eafa5",
   "metadata": {},
   "outputs": [],
   "source": [
    "# Handling Categorical Data\n",
    "# 1. Label Encoding\n",
    "\n",
    "pd.get_dummies(data=df, columns=['Geography', 'Gender'])"
   ]
  },
  {
   "cell_type": "code",
   "execution_count": null,
   "id": "fc636410",
   "metadata": {},
   "outputs": [],
   "source": [
    "# for gender 1 hot encoding\n",
    "\n",
    "data=df_cat[\"Gender\"].head()\n",
    "pd.get_dummies(df_cat[\"Gender\"]).head()"
   ]
  },
  {
   "cell_type": "code",
   "execution_count": null,
   "id": "3e33daac",
   "metadata": {},
   "outputs": [],
   "source": [
    "# 2. Label Encoding\n",
    "\n",
    "from sklearn.preprocessing import LabelEncoder\n",
    "le = LabelEncoder()\n",
    "le.fit_transform(df_cat[\"Gender\"])"
   ]
  },
  {
   "cell_type": "code",
   "execution_count": null,
   "id": "d1dec73e",
   "metadata": {},
   "outputs": [],
   "source": [
    "# label encoding on all columns\n",
    "\n",
    "for col in df:\n",
    "    le = LabelEncoder()\n",
    "    df[col]= le.fit_transform(df[col])"
   ]
  },
  {
   "cell_type": "code",
   "execution_count": null,
   "id": "f5b9b368",
   "metadata": {},
   "outputs": [],
   "source": [
    "# Categorical data\n",
    "\n",
    "df_cat.head()"
   ]
  },
  {
   "cell_type": "code",
   "execution_count": null,
   "id": "29028c11",
   "metadata": {},
   "outputs": [],
   "source": [
    "# Numerical data\n",
    "\n",
    "df_num.head()"
   ]
  },
  {
   "cell_type": "code",
   "execution_count": null,
   "id": "2196886f",
   "metadata": {
    "scrolled": false
   },
   "outputs": [],
   "source": [
    "# Handling Skweness\n",
    "\n",
    "from scipy.stats import skew\n",
    "for col in df_num:\n",
    "    plt.figure()\n",
    "    sns.distplot(df_num[col])\n",
    "    plt.show()\n",
    "    \n",
    "    print(\"skewness: \",skew(df_num[col]))"
   ]
  },
  {
   "cell_type": "code",
   "execution_count": null,
   "id": "70f421a9",
   "metadata": {
    "scrolled": true
   },
   "outputs": [],
   "source": [
    "# Square root\n",
    "\n",
    "df_num[\"Balance\"] = np.sqrt(df_num[\"Balance\"])\n",
    "df_num[\"EstimatedSalary\"] = np.sqrt(df_num[\"EstimatedSalary\"])\n",
    "df_num[\"Age\"] = np.sqrt(df_num[\"Age\"])"
   ]
  },
  {
   "cell_type": "code",
   "execution_count": null,
   "id": "8f1741e9",
   "metadata": {},
   "outputs": [],
   "source": [
    "print(skew(df_num[\"Balance\"])) \n",
    "print(skew(df_num[\"EstimatedSalary\"]))\n",
    "print(skew(df_num[\"Age\"]))"
   ]
  },
  {
   "cell_type": "code",
   "execution_count": null,
   "id": "ef2c5019",
   "metadata": {},
   "outputs": [],
   "source": [
    "# scaling\n",
    "\n",
    "from sklearn.preprocessing import MinMaxScaler\n",
    "from sklearn.preprocessing import StandardScaler"
   ]
  },
  {
   "cell_type": "code",
   "execution_count": null,
   "id": "8610d822",
   "metadata": {},
   "outputs": [],
   "source": [
    "# a) Standard Scaler:-\n",
    "\n",
    "for col in df_num:\n",
    "    ss = StandardScaler()\n",
    "    df_num[col] = ss.fit_transform(df_num[[col]])\n",
    "    \n",
    "df_num.head()"
   ]
  },
  {
   "cell_type": "code",
   "execution_count": null,
   "id": "9c1bd884",
   "metadata": {},
   "outputs": [],
   "source": [
    "# b) MinMax Scaler:-\n",
    "\n",
    "for col in df_num:\n",
    "    ss = MinMaxScaler()\n",
    "    df_num[col] = ss.fit_transform(df_num[[col]])\n",
    "\n",
    "df_num.head()"
   ]
  },
  {
   "cell_type": "code",
   "execution_count": null,
   "id": "c9f33fea",
   "metadata": {},
   "outputs": [],
   "source": [
    "# combine both categorical and numerical data using concat function\n",
    "\n",
    "df_new = pd.concat([df_cat,df_num], axis=1)\n",
    "df_new.head()"
   ]
  },
  {
   "cell_type": "code",
   "execution_count": null,
   "id": "9e7a843b",
   "metadata": {},
   "outputs": [],
   "source": [
    "# drop customerID column as it is of no use\n",
    "\n",
    "df1 = df.drop(['RowNumber', 'CustomerId', 'Surname'], axis=1)\n",
    "df1.head()"
   ]
  },
  {
   "cell_type": "markdown",
   "id": "4f3eac73",
   "metadata": {},
   "source": [
    "## MODEL SELECTION\n",
    "\n",
    "##  Classification Algorithm"
   ]
  },
  {
   "cell_type": "code",
   "execution_count": null,
   "id": "0ac02941",
   "metadata": {},
   "outputs": [],
   "source": [
    "from sklearn.model_selection import train_test_split\n",
    "\n",
    "for col in df:\n",
    "    le = LabelEncoder()\n",
    "    df[col]= le.fit_transform(df[col])\n",
    "\n",
    "X = df.drop(\"Exited\",axis=1)\n",
    "y = df[\"Exited\"]\n",
    "\n",
    "X_train,X_test,y_train,y_test = train_test_split(X,y,test_size=0.3,random_state=1)"
   ]
  },
  {
   "cell_type": "markdown",
   "id": "c4c3a580",
   "metadata": {},
   "source": [
    "## 1. Naive Bayes"
   ]
  },
  {
   "cell_type": "code",
   "execution_count": null,
   "id": "4141596f",
   "metadata": {},
   "outputs": [],
   "source": [
    "from sklearn.naive_bayes import GaussianNB\n",
    "from sklearn.metrics import classification_report, confusion_matrix"
   ]
  },
  {
   "cell_type": "code",
   "execution_count": null,
   "id": "4d3a93e1",
   "metadata": {},
   "outputs": [],
   "source": [
    "# Fitting Naive Byes to the Training set:\n",
    "\n",
    "model1 = GaussianNB()\n",
    "model1.fit(X_train, y_train)\n",
    "\n",
    "\n",
    "# Trainning score for naive bayes classifier\n",
    "model1.score(X_train, y_train)\n",
    "\n",
    "\n",
    "# Predicting the Test set results \n",
    "y_pred = model1.predict(X_test)\n",
    "print(classification_report(y_test,y_pred))"
   ]
  },
  {
   "cell_type": "code",
   "execution_count": null,
   "id": "c8c7fccd",
   "metadata": {},
   "outputs": [],
   "source": [
    "# confusion_matrix\n",
    "\n",
    "tn, fp, fn, tp = confusion_matrix(y_test,y_pred).ravel()\n",
    "print(tp, fp)\n",
    "print(fn, tn)"
   ]
  },
  {
   "cell_type": "markdown",
   "id": "945f4afe",
   "metadata": {},
   "source": [
    "## Logistic Regression"
   ]
  },
  {
   "cell_type": "code",
   "execution_count": null,
   "id": "5f553504",
   "metadata": {},
   "outputs": [],
   "source": [
    "from sklearn.linear_model import LogisticRegression\n",
    "\n",
    "\n",
    "# Fitting Logistic Regression to the Training set:\n",
    "model2 = LogisticRegression(random_state=1)\n",
    "model2.fit(X_train,y_train)\n",
    "\n",
    "\n",
    "# Trainning score for Logistic Regression:\n",
    "model2.score(X_train, y_train)\n",
    "\n",
    "\n",
    "# Prediction on test\n",
    "y_pred = model2.predict(X_test)\n",
    "print(classification_report(y_test,y_pred))"
   ]
  },
  {
   "cell_type": "code",
   "execution_count": null,
   "id": "f5791674",
   "metadata": {},
   "outputs": [],
   "source": [
    "# confusion matrix\n",
    "\n",
    "from sklearn.metrics import plot_confusion_matrix\n",
    "\n",
    "plot_confusion_matrix(model2, X_train, y_train, cmap = 'PiYG')\n",
    "plt.title(\"Confusion Matrix for trainning\")\n",
    "plt.show()"
   ]
  },
  {
   "cell_type": "code",
   "execution_count": null,
   "id": "5f09cce3",
   "metadata": {},
   "outputs": [],
   "source": [
    "# confusion_matrix on testing\n",
    "\n",
    "tn, fp, fn, tp = confusion_matrix(y_test,y_pred).ravel()\n",
    "print(tp, fp)\n",
    "print(fn, tn)"
   ]
  },
  {
   "cell_type": "markdown",
   "id": "b6492f64",
   "metadata": {},
   "source": [
    "## ROC"
   ]
  },
  {
   "cell_type": "code",
   "execution_count": null,
   "id": "12067a70",
   "metadata": {},
   "outputs": [],
   "source": [
    "## roc auc\n",
    "\n",
    "prob = model2.predict_proba(X_test)[:,-1]\n",
    "\n",
    "thresholds = [0.5,0.4,0.3,0.2,0.1]\n",
    "tprs = []\n",
    "fprs = []"
   ]
  },
  {
   "cell_type": "code",
   "execution_count": null,
   "id": "7915df91",
   "metadata": {},
   "outputs": [],
   "source": [
    "for th in thresholds:\n",
    "    y_pred = np.where(prob >= th, 1, 0)\n",
    "    tn, fp, fn, tp = confusion_matrix(y_test,y_pred).ravel()\n",
    "    \n",
    "    tpr = tp/(tp + fn)\n",
    "    fpr = fp/(fp + tn)\n",
    "    \n",
    "    tprs.append(tpr)\n",
    "    fprs.append(fpr)"
   ]
  },
  {
   "cell_type": "code",
   "execution_count": null,
   "id": "630e9376",
   "metadata": {},
   "outputs": [],
   "source": [
    "# ROC Graph\n",
    "\n",
    "plt.figure()\n",
    "plt.plot(fprs,tprs,\"x--\")\n",
    "plt.xlabel(\"FPR\")\n",
    "plt.ylabel(\"TPR/Recall\")\n",
    "plt.scatter(fprs,tprs)\n",
    "plt.title(\"ROC Graph\")\n",
    "plt.show()"
   ]
  },
  {
   "cell_type": "code",
   "execution_count": null,
   "id": "55b79ff9",
   "metadata": {},
   "outputs": [],
   "source": [
    "# final model\n",
    "\n",
    "y_pred = np.where(prob >= 0.1, 1, 0) \n",
    "print(classification_report(y_test,y_pred))"
   ]
  },
  {
   "cell_type": "code",
   "execution_count": null,
   "id": "4b93047b",
   "metadata": {},
   "outputs": [],
   "source": [
    "# Area Under Curve\n",
    "\n",
    "from sklearn.metrics import roc_auc_score\n",
    "roc_auc_score(y_test,y_pred)"
   ]
  },
  {
   "cell_type": "markdown",
   "id": "4bfb450c",
   "metadata": {},
   "source": [
    "## KNN Model"
   ]
  },
  {
   "cell_type": "code",
   "execution_count": null,
   "id": "bbdef53a",
   "metadata": {},
   "outputs": [],
   "source": [
    "from sklearn.neighbors import KNeighborsClassifier\n",
    "\n",
    "# Whenever we perform data always scale the data\n",
    "\n",
    "for col in X:\n",
    "    ss = StandardScaler()\n",
    "    X_train[col] = ss.fit_transform(X_train[[col]])\n",
    "    X_test[col] = ss.transform(X_test[[col]])"
   ]
  },
  {
   "cell_type": "code",
   "execution_count": null,
   "id": "95151bab",
   "metadata": {},
   "outputs": [],
   "source": [
    "neighbors = [3,7,9,11,13,15,17]\n",
    "\n",
    "train_scores = []\n",
    "test_scores = []\n",
    "\n",
    "for k in neighbors:\n",
    "    knn = KNeighborsClassifier(n_neighbors=k)\n",
    "    knn.fit(X_train,y_train)\n",
    "    \n",
    "    train_score = knn.score(X_train,y_train) \n",
    "    test_score = knn.score(X_test,y_test)\n",
    "    \n",
    "    train_scores.append(train_score)\n",
    "    test_scores.append(test_score)"
   ]
  },
  {
   "cell_type": "code",
   "execution_count": null,
   "id": "dccbd9b6",
   "metadata": {},
   "outputs": [],
   "source": [
    "# KNN Graph\n",
    "\n",
    "plt.figure()\n",
    "plt.plot(train_scores, color=\"red\")\n",
    "plt.plot(test_scores, color=\"blue\")\n",
    "plt.title(\"KNN Graph\")\n",
    "plt.show()"
   ]
  },
  {
   "cell_type": "code",
   "execution_count": null,
   "id": "5d631e1c",
   "metadata": {},
   "outputs": [],
   "source": [
    "# Final model fit data in KNN Classifier:-\n",
    "\n",
    "knn = KNeighborsClassifier(n_neighbors=5)\n",
    "knn.fit(X_train,y_train)\n",
    "\n",
    "# Prediction:-\n",
    "y_pred = knn.predict(X_test)\n",
    "print(classification_report(y_test,y_pred))"
   ]
  },
  {
   "cell_type": "markdown",
   "id": "456e628f",
   "metadata": {},
   "source": [
    "## DECISION TREE"
   ]
  },
  {
   "cell_type": "code",
   "execution_count": null,
   "id": "8ec305c1",
   "metadata": {},
   "outputs": [],
   "source": [
    "from sklearn.tree import DecisionTreeClassifier\n",
    "from sklearn.tree import DecisionTreeRegressor\n",
    "from imblearn.over_sampling import RandomOverSampler\n",
    "\n",
    "from sklearn.model_selection import cross_val_score\n",
    "from sklearn.metrics import mean_squared_error"
   ]
  },
  {
   "cell_type": "raw",
   "id": "1cd41544",
   "metadata": {},
   "source": [
    "1. Gini index"
   ]
  },
  {
   "cell_type": "code",
   "execution_count": null,
   "id": "8ac43ef2",
   "metadata": {},
   "outputs": [],
   "source": [
    "#  fit data for trainning in  Decision Tree Classifier by default it is gini index.\n",
    "\n",
    "model3 = DecisionTreeClassifier()\n",
    "model3.fit(X_train,y_train)\n",
    "\n",
    "\n",
    "# train score Decision Tree Classifier\n",
    "model3.score(X_train,y_train)\n",
    "\n",
    "\n",
    "# Predict Decision Tree Classifier:-\n",
    "y_pred = model3.predict(X_test)\n",
    "print(classification_report(y_test,y_pred))\n"
   ]
  },
  {
   "cell_type": "code",
   "execution_count": null,
   "id": "da3da4da",
   "metadata": {},
   "outputs": [],
   "source": [
    "model3.get_depth()"
   ]
  },
  {
   "cell_type": "raw",
   "id": "dd511fcb",
   "metadata": {},
   "source": [
    "2. Entropy"
   ]
  },
  {
   "cell_type": "code",
   "execution_count": null,
   "id": "07036b1b",
   "metadata": {},
   "outputs": [],
   "source": [
    "# fit data for trainning in  Decision Tree Classifier for entropy\n",
    "\n",
    "model4 = DecisionTreeClassifier(criterion=\"entropy\")\n",
    "model4.fit(X_train,y_train)\n",
    "\n",
    "\n",
    "# train score Decision Tree Classifier:-\n",
    "model4.score(X_train,y_train)\n",
    "\n",
    "\n",
    "# Predict Decision Tree Classifier:-\n",
    "y_pred = model4.predict(X_test)\n",
    "print(classification_report(y_test,y_pred))"
   ]
  },
  {
   "cell_type": "code",
   "execution_count": null,
   "id": "9d27afbf",
   "metadata": {},
   "outputs": [],
   "source": [
    "# 1. max depth\n",
    "\n",
    "# fit data for trainning \n",
    "model5 = DecisionTreeClassifier(max_depth=18)\n",
    "model5.fit(X_train,y_train)\n",
    "\n",
    "\n",
    "# Prediction\n",
    "y_pred = model5.predict(X_test)\n",
    "print(classification_report(y_test,y_pred))"
   ]
  },
  {
   "cell_type": "code",
   "execution_count": null,
   "id": "34712694",
   "metadata": {},
   "outputs": [],
   "source": [
    "# 2 - min samples leaf\n",
    "\n",
    "# fit data for trainning \n",
    "model5 = DecisionTreeClassifier(min_samples_leaf=5)\n",
    "model5.fit(X_train,y_train)\n",
    "\n",
    "\n",
    "# Prediction\n",
    "y_pred = model5.predict(X_test)\n",
    "print(classification_report(y_test,y_pred))"
   ]
  },
  {
   "cell_type": "markdown",
   "id": "7646be5f",
   "metadata": {},
   "source": [
    "\n",
    "## Decision Tree Regressor"
   ]
  },
  {
   "cell_type": "code",
   "execution_count": null,
   "id": "0d290c94",
   "metadata": {},
   "outputs": [],
   "source": [
    "from sklearn.model_selection import cross_val_score \n",
    "\n",
    "model6 = DecisionTreeRegressor()\n",
    "\n",
    "cv = cross_val_score(model6,X,y,cv=4, scoring='neg_mean_squared_error')\n",
    "print(cv)\n",
    "\n",
    "\n",
    "# Fitting Decision Tree to the Training set:\n",
    "model6 = DecisionTreeRegressor()\n",
    "model6.fit(X_train,y_train)\n",
    "\n",
    "\n",
    "# Predicting the Test set results :\n",
    "y_pred = model6.predict(X_test)\n",
    "\n",
    "\n",
    "# Evaluate results:\n",
    "mse = mean_squared_error(y_test,y_pred)\n",
    "print(\"MSE:-\", mse)\n",
    "\n",
    "rmse = np.sqrt(mse)\n",
    "print(\"RMSE:-\", rmse)"
   ]
  },
  {
   "cell_type": "markdown",
   "id": "554770f2",
   "metadata": {},
   "source": [
    "## Random over sampling"
   ]
  },
  {
   "cell_type": "code",
   "execution_count": null,
   "id": "90de8837",
   "metadata": {},
   "outputs": [],
   "source": [
    "rs = RandomOverSampler(random_state=1)\n",
    "X_train_rs, y_train_rs = rs.fit_resample(X_train,y_train)\n",
    "\n",
    "y_train_rs.value_counts()\n",
    "\n",
    "# Training\n",
    "model7 = DecisionTreeClassifier()\n",
    "model7.fit(X_train_rs, y_train_rs)\n",
    "\n",
    "\n",
    "# Prediction\n",
    "y_pred = model7.predict(X_test)\n",
    "print(classification_report(y_test,y_pred))\n"
   ]
  },
  {
   "cell_type": "code",
   "execution_count": null,
   "id": "6383fe36",
   "metadata": {},
   "outputs": [],
   "source": [
    "# get max depth of model\n",
    "\n",
    "model7.get_depth()"
   ]
  },
  {
   "cell_type": "raw",
   "id": "d00973cd",
   "metadata": {},
   "source": [
    "1. Max depth"
   ]
  },
  {
   "cell_type": "code",
   "execution_count": null,
   "id": "5b4c2c83",
   "metadata": {},
   "outputs": [],
   "source": [
    "# Training\n",
    "model8 = DecisionTreeClassifier(max_depth=20)\n",
    "model8.fit(X_train_rs,y_train_rs)\n",
    "\n",
    "\n",
    "# Prediction\n",
    "y_pred = model8.predict(X_test)\n",
    "print(classification_report(y_test,y_pred))"
   ]
  },
  {
   "cell_type": "raw",
   "id": "4b45ef7b",
   "metadata": {},
   "source": [
    "2. min_samples_leaf "
   ]
  },
  {
   "cell_type": "code",
   "execution_count": null,
   "id": "8a68f28b",
   "metadata": {},
   "outputs": [],
   "source": [
    "# Training\n",
    "model9 = DecisionTreeClassifier(min_samples_leaf=9)\n",
    "model9.fit(X_train_rs,y_train_rs)\n",
    "\n",
    "\n",
    "# Prediction\n",
    "y_pred = model9.predict(X_test)\n",
    "print(classification_report(y_test,y_pred))"
   ]
  },
  {
   "cell_type": "markdown",
   "id": "3ed23190",
   "metadata": {},
   "source": [
    "## Random Forest "
   ]
  },
  {
   "cell_type": "code",
   "execution_count": null,
   "id": "3563d44f",
   "metadata": {},
   "outputs": [],
   "source": [
    "from sklearn.ensemble import RandomForestClassifier\n",
    "\n",
    "# Training\n",
    "rf=RandomForestClassifier(n_estimators=70, max_depth=10, max_features=5)\n",
    "rf.fit(X_train_rs, y_train_rs)\n",
    "\n",
    "# Predictition\n",
    "y_pred = rf.predict(X_test)\n",
    "print(classification_report(y_test,y_pred))"
   ]
  },
  {
   "cell_type": "markdown",
   "id": "18387ca3",
   "metadata": {},
   "source": [
    "## BOOSTING"
   ]
  },
  {
   "cell_type": "markdown",
   "id": "c8ebbb17",
   "metadata": {},
   "source": [
    "## Adaptive Boosting"
   ]
  },
  {
   "cell_type": "code",
   "execution_count": null,
   "id": "1d275bee",
   "metadata": {},
   "outputs": [],
   "source": [
    "from sklearn.ensemble import AdaBoostClassifier\n",
    "\n",
    "# Training\n",
    "model10 = AdaBoostClassifier(n_estimators=100, random_state=1)\n",
    "model10.fit(X_train,y_train)\n",
    "\n",
    "# Train Score\n",
    "model10.score(X_train, y_train)\n",
    "\n",
    "# Prediction\n",
    "y_pred = model10.predict(X_test)\n",
    "print(classification_report(y_test,y_pred))"
   ]
  },
  {
   "cell_type": "markdown",
   "id": "77bd5ced",
   "metadata": {},
   "source": [
    "## Gradient Boosting"
   ]
  },
  {
   "cell_type": "code",
   "execution_count": null,
   "id": "81172021",
   "metadata": {},
   "outputs": [],
   "source": [
    "from sklearn.ensemble import GradientBoostingClassifier\n",
    "\n",
    "# Training\n",
    "model11 = GradientBoostingClassifier(random_state=1, n_estimators=200, learning_rate=0.5)\n",
    "model11.fit(X_train,y_train)\n",
    "\n",
    "\n",
    "# Prediction\n",
    "y_pred = model11.predict(X_test)\n",
    "print(classification_report(y_test,y_pred))"
   ]
  },
  {
   "cell_type": "markdown",
   "id": "b726b406",
   "metadata": {},
   "source": [
    "## XG Boost"
   ]
  },
  {
   "cell_type": "code",
   "execution_count": null,
   "id": "e3b8b768",
   "metadata": {},
   "outputs": [],
   "source": [
    "from xgboost import XGBClassifier\n",
    "\n",
    "# Training\n",
    "xgb = XGBClassifier(n_estimators=100,random_state=1)\n",
    "xgb.fit(X_train,y_train)\n",
    "\n",
    "# Prediction\n",
    "y_pred = xgb.predict(X_test)\n",
    "print(classification_report(y_test,y_pred))"
   ]
  },
  {
   "cell_type": "markdown",
   "id": "61b1ab1b",
   "metadata": {},
   "source": [
    "## Hyper parameter tuning using GridSearchCV"
   ]
  },
  {
   "cell_type": "code",
   "execution_count": null,
   "id": "f490dab3",
   "metadata": {},
   "outputs": [],
   "source": [
    "param_grid = {\"n_estimators\":[75,100,125,150],\n",
    "              \"learning_rate\":[0.1,0.2,0.3],\n",
    "              \"min_samples_leaf\":[10,20],\n",
    "              \"max_depth\":[2,3,4]}"
   ]
  },
  {
   "cell_type": "code",
   "execution_count": null,
   "id": "9cc19ced",
   "metadata": {},
   "outputs": [],
   "source": [
    "# model\n",
    "model13 = GradientBoostingClassifier(random_state=1)"
   ]
  },
  {
   "cell_type": "code",
   "execution_count": null,
   "id": "196fd596",
   "metadata": {},
   "outputs": [],
   "source": [
    "# Grid Search CV\n",
    "from sklearn.model_selection import GridSearchCV\n",
    "\n",
    "gs = GridSearchCV(model13, param_grid, cv=2)\n",
    "\n",
    "gs.fit(X_train,y_train)\n",
    "\n",
    "gs.best_params_"
   ]
  },
  {
   "cell_type": "code",
   "execution_count": null,
   "id": "035584e7",
   "metadata": {},
   "outputs": [],
   "source": [
    "# Final Model\n",
    "final_model = GradientBoostingClassifier(random_state=1,learning_rate=0.2,min_samples_leaf=10,n_estimators=150)\n",
    "final_model.fit(X_train,y_train)\n",
    "\n",
    "\n",
    "# Prediction\n",
    "y_pred = final_model.predict(X_test)\n",
    "print(classification_report(y_test,y_pred))"
   ]
  }
 ],
 "metadata": {
  "kernelspec": {
   "display_name": "Python 3",
   "language": "python",
   "name": "python3"
  },
  "language_info": {
   "codemirror_mode": {
    "name": "ipython",
    "version": 3
   },
   "file_extension": ".py",
   "mimetype": "text/x-python",
   "name": "python",
   "nbconvert_exporter": "python",
   "pygments_lexer": "ipython3",
   "version": "3.8.8"
  }
 },
 "nbformat": 4,
 "nbformat_minor": 5
}
